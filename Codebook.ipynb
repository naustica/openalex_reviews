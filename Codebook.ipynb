{
 "cells": [
  {
   "cell_type": "code",
   "execution_count": 1,
   "id": "871ce631-25c3-4652-a951-da2a2b0d7d7e",
   "metadata": {},
   "outputs": [],
   "source": [
    "import pandas as pd\n",
    "from sqlalchemy import create_engine\n",
    "import os\n",
    "import matplotlib.pyplot as plt\n",
    "import seaborn as sns\n",
    "from matplotlib.lines import Line2D\n",
    "from nltk import ngrams\n",
    "from collections import Counter"
   ]
  },
  {
   "cell_type": "code",
   "execution_count": 3,
   "id": "a8233944-5505-4d71-9c1a-c730169ea0af",
   "metadata": {},
   "outputs": [],
   "source": [
    "host = os.environ['KB_HOST']\n",
    "database = os.environ['KB_DATABASE']\n",
    "user = os.environ['KB_USER']\n",
    "pw = os.environ['KB_PASSWORD']\n",
    "port = os.environ['KB_PORT']\n",
    "engine = create_engine(f'postgresql://{user}:{pw}@{host}:{port}/{database}')"
   ]
  },
  {
   "cell_type": "code",
   "execution_count": 5,
   "id": "ce545cbd-7f75-4e6b-b595-18fa5ce123ec",
   "metadata": {},
   "outputs": [],
   "source": [
    "oal_review_naive_count = pd.read_sql(\"\"\"\n",
    "                                     SELECT COUNT(DISTINCT(doi)) AS n, pubyear\n",
    "                                     FROM unignhaupka.oal_scp_corpus_2018_2024 as oal\n",
    "                                     JOIN fiz_openalex_bdb_20250201.abstracts AS a\n",
    "                                         ON a.item_id = oal.openalex_id \n",
    "                                     WHERE oal_type = 'article' AND (LOWER(a.abstract_plain_text) ~ 'review' OR LOWER(item_title) ~ 'review')\n",
    "                                     GROUP BY pubyear\n",
    "                                     \"\"\", \n",
    "                                     con=engine)"
   ]
  },
  {
   "cell_type": "code",
   "execution_count": 6,
   "id": "a7368c85-b0e6-4ebb-928a-c6515e3f357c",
   "metadata": {},
   "outputs": [
    {
     "data": {
      "text/plain": [
       "508109"
      ]
     },
     "execution_count": 6,
     "metadata": {},
     "output_type": "execute_result"
    }
   ],
   "source": [
    "oal_review_naive_count.n.sum()"
   ]
  },
  {
   "cell_type": "code",
   "execution_count": 27,
   "id": "45ebec84-ba49-4fcb-8075-0d777e62ed0d",
   "metadata": {},
   "outputs": [],
   "source": [
    "oal_review_naive_count_ref1 = pd.read_sql(\"\"\"\n",
    "                                          SELECT COUNT(DISTINCT(doi)) AS n, pubyear\n",
    "                                          FROM unignhaupka.oal_scp_corpus_2018_2024 as oal\n",
    "                                          JOIN fiz_openalex_bdb_20250201.abstracts AS a\n",
    "                                              ON a.item_id = oal.openalex_id \n",
    "                                          WHERE oal_type = 'article' AND source_ref_count >= 1 AND (LOWER(a.abstract_plain_text) ~ 'review' OR LOWER(item_title) ~ 'review')\n",
    "                                          GROUP BY pubyear\n",
    "                                          \"\"\", \n",
    "                                          con=engine)"
   ]
  },
  {
   "cell_type": "code",
   "execution_count": 28,
   "id": "1896b2ac-1422-4199-ae02-07b4aebfe80b",
   "metadata": {},
   "outputs": [
    {
     "data": {
      "text/plain": [
       "472770"
      ]
     },
     "execution_count": 28,
     "metadata": {},
     "output_type": "execute_result"
    }
   ],
   "source": [
    "oal_review_naive_count_ref1.n.sum()"
   ]
  },
  {
   "cell_type": "code",
   "execution_count": 29,
   "id": "dbcd19ab-9b9c-48d4-b7cb-328f658dd2ae",
   "metadata": {},
   "outputs": [],
   "source": [
    "oal_review_naive_count_ref100 = pd.read_sql(\"\"\"\n",
    "                                            SELECT COUNT(DISTINCT(doi)) AS n, pubyear\n",
    "                                            FROM unignhaupka.oal_scp_corpus_2018_2024 as oal\n",
    "                                            JOIN fiz_openalex_bdb_20250201.abstracts AS a\n",
    "                                                ON a.item_id = oal.openalex_id \n",
    "                                            WHERE oal_type = 'article' AND source_ref_count >= 100 AND (LOWER(a.abstract_plain_text) ~ 'review' OR LOWER(item_title) ~ 'review')\n",
    "                                            GROUP BY pubyear\n",
    "                                            \"\"\", \n",
    "                                            con=engine)"
   ]
  },
  {
   "cell_type": "code",
   "execution_count": 30,
   "id": "78bfbd4a-4aba-46f4-a67b-209af197724c",
   "metadata": {},
   "outputs": [
    {
     "data": {
      "text/plain": [
       "76289"
      ]
     },
     "execution_count": 30,
     "metadata": {},
     "output_type": "execute_result"
    }
   ],
   "source": [
    "oal_review_naive_count_ref100.n.sum()"
   ]
  },
  {
   "cell_type": "code",
   "execution_count": 7,
   "id": "f53f87d1-51b0-47c8-a24f-0a2cf7f6d869",
   "metadata": {},
   "outputs": [],
   "source": [
    "oal_review_regex_count = pd.read_sql(\"\"\"\n",
    "                                     SELECT COUNT(DISTINCT(doi)) AS n, pubyear\n",
    "                                     FROM unignhaupka.oal_scp_corpus_2018_2024 as oal\n",
    "                                     JOIN fiz_openalex_bdb_20250201.abstracts AS a\n",
    "                                         ON a.item_id = oal.openalex_id \n",
    "                                     WHERE oal_type = 'article' \n",
    "                                         AND ( \n",
    "                                             LOWER(a.abstract_plain_text) ~ '(\\sthis\\s|systematic\\s|umbrealla\\s|bibliographic\\s|literature\\s|scoping\\s|comprehensive\\s|mini-)review'\n",
    "                                             OR LOWER(item_title) ~ '(\\sa\\s|systematic\\s|umbrealla\\s|bibliographic\\s|literature\\s|scoping\\s|comprehensive\\s|mini-)review'\n",
    "                                         )\n",
    "                                     GROUP BY pubyear\n",
    "                                     \"\"\", \n",
    "                                     con=engine)"
   ]
  },
  {
   "cell_type": "code",
   "execution_count": 8,
   "id": "222fa95e-713e-4ca6-954d-73289b068e30",
   "metadata": {},
   "outputs": [
    {
     "data": {
      "text/plain": [
       "164738"
      ]
     },
     "execution_count": 8,
     "metadata": {},
     "output_type": "execute_result"
    }
   ],
   "source": [
    "oal_review_regex_count.n.sum()"
   ]
  },
  {
   "cell_type": "code",
   "execution_count": 10,
   "id": "fd2d291c-b491-424b-a515-ad015424d758",
   "metadata": {},
   "outputs": [],
   "source": [
    "oal_review_ref_count = pd.read_sql(\"\"\"\n",
    "                                   SELECT COUNT(DISTINCT(doi)) AS n, pubyear\n",
    "                                   FROM unignhaupka.oal_scp_corpus_2018_2024 as oal\n",
    "                                   WHERE oal_type = 'article' AND source_ref_count >= 100\n",
    "                                   GROUP BY pubyear\n",
    "                                   \"\"\", \n",
    "                                   con=engine)"
   ]
  },
  {
   "cell_type": "code",
   "execution_count": 11,
   "id": "a3f5750f-df1a-4628-b311-72cf0945d69d",
   "metadata": {},
   "outputs": [
    {
     "data": {
      "text/plain": [
       "463551"
      ]
     },
     "execution_count": 11,
     "metadata": {},
     "output_type": "execute_result"
    }
   ],
   "source": [
    "oal_review_ref_count.n.sum()"
   ]
  },
  {
   "cell_type": "code",
   "execution_count": 43,
   "id": "33540170-9d70-439a-beb8-cd6dab365852",
   "metadata": {},
   "outputs": [
    {
     "data": {
      "image/png": "[encoded data removed]",
      "text/plain": [
       "<Figure size 600x450 with 1 Axes>"
      ]
     },
     "metadata": {},
     "output_type": "display_data"
    }
   ],
   "source": [
    "fig, ax = plt.subplots(figsize=(6,4.5))\n",
    "plt.box(False)\n",
    "\n",
    "sns.lineplot(data=oal_review_naive_count,\n",
    "             x='pubyear',\n",
    "             y='n',\n",
    "             color='#fc5185',\n",
    "             marker='o',\n",
    "             ax=ax)\n",
    "\n",
    "sns.lineplot(data=oal_review_regex_count,\n",
    "             x='pubyear',\n",
    "             y='n',\n",
    "             color='#c3c3c3',\n",
    "             marker='o',\n",
    "             ax=ax)\n",
    "\n",
    "sns.lineplot(data=oal_review_ref_count,\n",
    "             x='pubyear',\n",
    "             y='n',\n",
    "             color='#f68212',\n",
    "             marker='o',\n",
    "             ax=ax)\n",
    "\n",
    "sns.lineplot(data=oal_review_naive_count_ref1,\n",
    "             x='pubyear',\n",
    "             y='n',\n",
    "             color='#E5BA52',\n",
    "             marker='o',\n",
    "             ax=ax)\n",
    "\n",
    "sns.lineplot(data=oal_review_naive_count_ref100,\n",
    "             x='pubyear',\n",
    "             y='n',\n",
    "             color='#9e0059',\n",
    "             marker='o',\n",
    "             ax=ax)\n",
    "\n",
    "ax.grid(True, which='both', axis='y')\n",
    "ax.set(xlabel='Year', ylabel='Number of reviews')\n",
    "ax.ticklabel_format(useOffset=False, style='plain')\n",
    "\n",
    "nai_patch = Line2D([0], [0], color='#fc5185', label='Word \"Review\" in title or abstract')\n",
    "ref1_patch = Line2D([0], [0], color='#E5BA52', label='Word \"Review\" in title or abstract and ref count >= 1')\n",
    "ref100_patch = Line2D([0], [0], color='#9e0059', label='Word \"Review\" in title or abstract and ref count >= 100')\n",
    "reg_patch = Line2D([0], [0], color='#c3c3c3', label='Regex in title or abstract')\n",
    "ref_patch = Line2D([0], [0], color='#f68212', label='Ref count >= 100')\n",
    "\n",
    "lgd = fig.legend(handles=[nai_patch, reg_patch, ref_patch, ref1_patch, ref100_patch], frameon=False,\n",
    "                 bbox_to_anchor=(1.8, 0.9), labelspacing=1.1)\n",
    "\n",
    "plt.tight_layout()\n",
    "\n",
    "plt.show()\n",
    "fig.savefig(f'media/review_classification_comparison.png', format='png', bbox_inches='tight', dpi=500)"
   ]
  },
  {
   "cell_type": "code",
   "execution_count": 4,
   "id": "ed3c84b7-bfbe-440a-860e-f07b7c525b4e",
   "metadata": {},
   "outputs": [],
   "source": [
    "oal_scp_diff = pd.read_sql(\"\"\"\n",
    "                           SELECT COUNT(DISTINCT(doi)) AS n\n",
    "                           FROM unignhaupka.oal_scp_review_analysis\n",
    "                           \"\"\", \n",
    "                           con=engine)"
   ]
  },
  {
   "cell_type": "code",
   "execution_count": 5,
   "id": "d50c63e2-e53a-44e6-a5e3-6880c8abfabc",
   "metadata": {},
   "outputs": [
    {
     "data": {
      "text/html": [
       "<div>\n",
       "<style scoped>\n",
       "    .dataframe tbody tr th:only-of-type {\n",
       "        vertical-align: middle;\n",
       "    }\n",
       "\n",
       "    .dataframe tbody tr th {\n",
       "        vertical-align: top;\n",
       "    }\n",
       "\n",
       "    .dataframe thead th {\n",
       "        text-align: right;\n",
       "    }\n",
       "</style>\n",
       "<table border=\"1\" class=\"dataframe\">\n",
       "  <thead>\n",
       "    <tr style=\"text-align: right;\">\n",
       "      <th></th>\n",
       "      <th>n</th>\n",
       "    </tr>\n",
       "  </thead>\n",
       "  <tbody>\n",
       "    <tr>\n",
       "      <th>0</th>\n",
       "      <td>553716</td>\n",
       "    </tr>\n",
       "  </tbody>\n",
       "</table>\n",
       "</div>"
      ],
      "text/plain": [
       "        n\n",
       "0  553716"
      ]
     },
     "execution_count": 5,
     "metadata": {},
     "output_type": "execute_result"
    }
   ],
   "source": [
    "oal_scp_diff"
   ]
  },
  {
   "cell_type": "code",
   "execution_count": 6,
   "id": "a75f0ca8-8be8-49af-a2ed-f731e8568679",
   "metadata": {},
   "outputs": [],
   "source": [
    "oal_scp_diff_journals = pd.read_sql(\"\"\"\n",
    "                                    SELECT source_title, COUNT(DISTINCT(doi)) AS n\n",
    "                                    FROM unignhaupka.oal_scp_review_analysis\n",
    "                                    GROUP BY source_title\n",
    "                                    ORDER BY n DESC\n",
    "                                    \"\"\", \n",
    "                                    con=engine)"
   ]
  },
  {
   "cell_type": "code",
   "execution_count": 7,
   "id": "690a7370-2014-4753-8033-96048ccd28a0",
   "metadata": {},
   "outputs": [
    {
     "data": {
      "text/html": [
       "<div>\n",
       "<style scoped>\n",
       "    .dataframe tbody tr th:only-of-type {\n",
       "        vertical-align: middle;\n",
       "    }\n",
       "\n",
       "    .dataframe tbody tr th {\n",
       "        vertical-align: top;\n",
       "    }\n",
       "\n",
       "    .dataframe thead th {\n",
       "        text-align: right;\n",
       "    }\n",
       "</style>\n",
       "<table border=\"1\" class=\"dataframe\">\n",
       "  <thead>\n",
       "    <tr style=\"text-align: right;\">\n",
       "      <th></th>\n",
       "      <th>source_title</th>\n",
       "      <th>n</th>\n",
       "    </tr>\n",
       "  </thead>\n",
       "  <tbody>\n",
       "    <tr>\n",
       "      <th>0</th>\n",
       "      <td>Medicine</td>\n",
       "      <td>3829</td>\n",
       "    </tr>\n",
       "    <tr>\n",
       "      <th>1</th>\n",
       "      <td>Sustainability</td>\n",
       "      <td>3502</td>\n",
       "    </tr>\n",
       "    <tr>\n",
       "      <th>2</th>\n",
       "      <td>PubMed</td>\n",
       "      <td>3307</td>\n",
       "    </tr>\n",
       "    <tr>\n",
       "      <th>3</th>\n",
       "      <td>Applied Sciences</td>\n",
       "      <td>2932</td>\n",
       "    </tr>\n",
       "    <tr>\n",
       "      <th>4</th>\n",
       "      <td>Energies</td>\n",
       "      <td>2582</td>\n",
       "    </tr>\n",
       "    <tr>\n",
       "      <th>5</th>\n",
       "      <td>Coordination Chemistry Reviews</td>\n",
       "      <td>2384</td>\n",
       "    </tr>\n",
       "    <tr>\n",
       "      <th>6</th>\n",
       "      <td>TrAC Trends in Analytical Chemistry</td>\n",
       "      <td>2121</td>\n",
       "    </tr>\n",
       "    <tr>\n",
       "      <th>7</th>\n",
       "      <td>DOAJ (DOAJ: Directory of Open Access Journals)</td>\n",
       "      <td>1905</td>\n",
       "    </tr>\n",
       "    <tr>\n",
       "      <th>8</th>\n",
       "      <td>Deleted Journal</td>\n",
       "      <td>1749</td>\n",
       "    </tr>\n",
       "    <tr>\n",
       "      <th>9</th>\n",
       "      <td>Renewable and Sustainable Energy Reviews</td>\n",
       "      <td>1746</td>\n",
       "    </tr>\n",
       "    <tr>\n",
       "      <th>10</th>\n",
       "      <td>Trends in Food Science &amp; Technology</td>\n",
       "      <td>1704</td>\n",
       "    </tr>\n",
       "    <tr>\n",
       "      <th>11</th>\n",
       "      <td>Advanced Functional Materials</td>\n",
       "      <td>1593</td>\n",
       "    </tr>\n",
       "    <tr>\n",
       "      <th>12</th>\n",
       "      <td>Zootaxa</td>\n",
       "      <td>1573</td>\n",
       "    </tr>\n",
       "    <tr>\n",
       "      <th>13</th>\n",
       "      <td>Earth-Science Reviews</td>\n",
       "      <td>1528</td>\n",
       "    </tr>\n",
       "    <tr>\n",
       "      <th>14</th>\n",
       "      <td>PLoS ONE</td>\n",
       "      <td>1482</td>\n",
       "    </tr>\n",
       "    <tr>\n",
       "      <th>15</th>\n",
       "      <td>International Journal of Molecular Sciences</td>\n",
       "      <td>1477</td>\n",
       "    </tr>\n",
       "    <tr>\n",
       "      <th>16</th>\n",
       "      <td>Journal of Materials Chemistry A</td>\n",
       "      <td>1312</td>\n",
       "    </tr>\n",
       "    <tr>\n",
       "      <th>17</th>\n",
       "      <td>Chemical Engineering Journal</td>\n",
       "      <td>1282</td>\n",
       "    </tr>\n",
       "    <tr>\n",
       "      <th>18</th>\n",
       "      <td>Journal of Cleaner Production</td>\n",
       "      <td>1272</td>\n",
       "    </tr>\n",
       "    <tr>\n",
       "      <th>19</th>\n",
       "      <td>IEEE Access</td>\n",
       "      <td>1137</td>\n",
       "    </tr>\n",
       "  </tbody>\n",
       "</table>\n",
       "</div>"
      ],
      "text/plain": [
       "                                      source_title     n\n",
       "0                                         Medicine  3829\n",
       "1                                   Sustainability  3502\n",
       "2                                           PubMed  3307\n",
       "3                                 Applied Sciences  2932\n",
       "4                                         Energies  2582\n",
       "5                   Coordination Chemistry Reviews  2384\n",
       "6              TrAC Trends in Analytical Chemistry  2121\n",
       "7   DOAJ (DOAJ: Directory of Open Access Journals)  1905\n",
       "8                                  Deleted Journal  1749\n",
       "9         Renewable and Sustainable Energy Reviews  1746\n",
       "10             Trends in Food Science & Technology  1704\n",
       "11                   Advanced Functional Materials  1593\n",
       "12                                         Zootaxa  1573\n",
       "13                           Earth-Science Reviews  1528\n",
       "14                                        PLoS ONE  1482\n",
       "15     International Journal of Molecular Sciences  1477\n",
       "16                Journal of Materials Chemistry A  1312\n",
       "17                    Chemical Engineering Journal  1282\n",
       "18                   Journal of Cleaner Production  1272\n",
       "19                                     IEEE Access  1137"
      ]
     },
     "execution_count": 7,
     "metadata": {},
     "output_type": "execute_result"
    }
   ],
   "source": [
    "oal_scp_diff_journals.head(20)"
   ]
  },
  {
   "cell_type": "code",
   "execution_count": 5,
   "id": "c18d6be8-6024-4986-8e0c-1bfad756e3bb",
   "metadata": {},
   "outputs": [],
   "source": [
    "oal_review = pd.read_sql(r\"\"\"\n",
    "                         SELECT doi, item_title\n",
    "                         FROM unignhaupka.oal_scp_review_analysis osra\n",
    "                         JOIN fiz_openalex_bdb_20250201.abstracts AS a\n",
    "                             ON a.item_id = osra.openalex_id \n",
    "                         WHERE LOWER(a.abstract_plain_text) ~ '(\\sthis\\s|systematic\\s|umbrella\\s|bibliographic\\s|literature\\s|scoping\\s|comprehensive\\s|mini-)review'\n",
    "                             OR LOWER(item_title) ~ '(\\sa\\s|systematic\\s|umbrella\\s|bibliographic\\s|literature\\s|scoping\\s|comprehensive\\s|mini-)review'\n",
    "                         LIMIT 100\n",
    "                         \"\"\", \n",
    "                         con=engine)"
   ]
  },
  {
   "cell_type": "code",
   "execution_count": 6,
   "id": "7010d937-834d-4ade-9c13-34f38b013fe0",
   "metadata": {},
   "outputs": [
    {
     "data": {
      "text/html": [
       "<div>\n",
       "<style scoped>\n",
       "    .dataframe tbody tr th:only-of-type {\n",
       "        vertical-align: middle;\n",
       "    }\n",
       "\n",
       "    .dataframe tbody tr th {\n",
       "        vertical-align: top;\n",
       "    }\n",
       "\n",
       "    .dataframe thead th {\n",
       "        text-align: right;\n",
       "    }\n",
       "</style>\n",
       "<table border=\"1\" class=\"dataframe\">\n",
       "  <thead>\n",
       "    <tr style=\"text-align: right;\">\n",
       "      <th></th>\n",
       "      <th>doi</th>\n",
       "      <th>item_title</th>\n",
       "    </tr>\n",
       "  </thead>\n",
       "  <tbody>\n",
       "    <tr>\n",
       "      <th>0</th>\n",
       "      <td>10.3399/bjgp20x709265</td>\n",
       "      <td>Should we be prescribing testosterone to perim...</td>\n",
       "    </tr>\n",
       "    <tr>\n",
       "      <th>1</th>\n",
       "      <td>10.1117/1.jatis.7.2.020902</td>\n",
       "      <td>Glass ceramic ZERODUR®: Even closer to zero th...</td>\n",
       "    </tr>\n",
       "    <tr>\n",
       "      <th>2</th>\n",
       "      <td>10.3390/fire6050175</td>\n",
       "      <td>Fire Retardance Methods and Materials for Phas...</td>\n",
       "    </tr>\n",
       "    <tr>\n",
       "      <th>3</th>\n",
       "      <td>10.1136/egastro-2023-000003</td>\n",
       "      <td>Spatial dimension of macrophage heterogeneity ...</td>\n",
       "    </tr>\n",
       "    <tr>\n",
       "      <th>4</th>\n",
       "      <td>10.1177/2150135120956938</td>\n",
       "      <td>American Society of ExtraCorporeal Technology:...</td>\n",
       "    </tr>\n",
       "    <tr>\n",
       "      <th>5</th>\n",
       "      <td>10.1360/n972018-00502</td>\n",
       "      <td>Preparation and properties of polyoxo-titanium...</td>\n",
       "    </tr>\n",
       "    <tr>\n",
       "      <th>6</th>\n",
       "      <td>10.5152/etd.2017.17007</td>\n",
       "      <td>PET-MRI Imaging of Cellular Trafficking of Lip...</td>\n",
       "    </tr>\n",
       "    <tr>\n",
       "      <th>7</th>\n",
       "      <td>10.1155/2020/8025391</td>\n",
       "      <td>Coccidioidomycosis of the Vocal Cords Presenti...</td>\n",
       "    </tr>\n",
       "    <tr>\n",
       "      <th>8</th>\n",
       "      <td>10.22141/2224-0721.16.4.2020.208489</td>\n",
       "      <td>Hashimoto’s thyroiditis: modern views on the p...</td>\n",
       "    </tr>\n",
       "    <tr>\n",
       "      <th>9</th>\n",
       "      <td>10.7498/aps.69.20200083</td>\n",
       "      <td>High resolution imaging based on photo-emissio...</td>\n",
       "    </tr>\n",
       "    <tr>\n",
       "      <th>10</th>\n",
       "      <td>10.1016/j.rechem.2023.100843</td>\n",
       "      <td>Recent advances with cobalt-mediated asymmetri...</td>\n",
       "    </tr>\n",
       "    <tr>\n",
       "      <th>11</th>\n",
       "      <td>10.2174/1570179420666230327144202</td>\n",
       "      <td>A Mini-review on Recent Advances in Synthesis ...</td>\n",
       "    </tr>\n",
       "    <tr>\n",
       "      <th>12</th>\n",
       "      <td>10.29001/2073-8552-2023-38-1-28-36</td>\n",
       "      <td>Ceramides: correlation with cardiovascular ris...</td>\n",
       "    </tr>\n",
       "    <tr>\n",
       "      <th>13</th>\n",
       "      <td>10.4103/ija.ija_398_22</td>\n",
       "      <td>Supraglottic airway devices versus endotrachea...</td>\n",
       "    </tr>\n",
       "    <tr>\n",
       "      <th>14</th>\n",
       "      <td>10.1007/s00428-024-03736-5</td>\n",
       "      <td>Current challenges and practical aspects of mo...</td>\n",
       "    </tr>\n",
       "    <tr>\n",
       "      <th>15</th>\n",
       "      <td>10.3389/fbioe.2024.1357871</td>\n",
       "      <td>Optimizing tendon repair and regeneration: how...</td>\n",
       "    </tr>\n",
       "    <tr>\n",
       "      <th>16</th>\n",
       "      <td>10.3390/jpm14050467</td>\n",
       "      <td>Navigating HER2-Low Testing in Invasive Breast...</td>\n",
       "    </tr>\n",
       "    <tr>\n",
       "      <th>17</th>\n",
       "      <td>10.21182/jmisst.2023.00738</td>\n",
       "      <td>Endoscopic Approach for Cervical Disease: Succ...</td>\n",
       "    </tr>\n",
       "    <tr>\n",
       "      <th>18</th>\n",
       "      <td>10.21294/1814-4861-2023-22-4-101-108</td>\n",
       "      <td>Treatment of cervical esophageal carcinoma: sy...</td>\n",
       "    </tr>\n",
       "    <tr>\n",
       "      <th>19</th>\n",
       "      <td>10.47470/0016-9900-2023-102-9-981-986</td>\n",
       "      <td>Safety issues in the use of disinfectants base...</td>\n",
       "    </tr>\n",
       "  </tbody>\n",
       "</table>\n",
       "</div>"
      ],
      "text/plain": [
       "                                      doi  \\\n",
       "0                   10.3399/bjgp20x709265   \n",
       "1              10.1117/1.jatis.7.2.020902   \n",
       "2                     10.3390/fire6050175   \n",
       "3             10.1136/egastro-2023-000003   \n",
       "4                10.1177/2150135120956938   \n",
       "5                   10.1360/n972018-00502   \n",
       "6                  10.5152/etd.2017.17007   \n",
       "7                    10.1155/2020/8025391   \n",
       "8     10.22141/2224-0721.16.4.2020.208489   \n",
       "9                 10.7498/aps.69.20200083   \n",
       "10           10.1016/j.rechem.2023.100843   \n",
       "11      10.2174/1570179420666230327144202   \n",
       "12     10.29001/2073-8552-2023-38-1-28-36   \n",
       "13                 10.4103/ija.ija_398_22   \n",
       "14             10.1007/s00428-024-03736-5   \n",
       "15             10.3389/fbioe.2024.1357871   \n",
       "16                    10.3390/jpm14050467   \n",
       "17             10.21182/jmisst.2023.00738   \n",
       "18   10.21294/1814-4861-2023-22-4-101-108   \n",
       "19  10.47470/0016-9900-2023-102-9-981-986   \n",
       "\n",
       "                                           item_title  \n",
       "0   Should we be prescribing testosterone to perim...  \n",
       "1   Glass ceramic ZERODUR®: Even closer to zero th...  \n",
       "2   Fire Retardance Methods and Materials for Phas...  \n",
       "3   Spatial dimension of macrophage heterogeneity ...  \n",
       "4   American Society of ExtraCorporeal Technology:...  \n",
       "5   Preparation and properties of polyoxo-titanium...  \n",
       "6   PET-MRI Imaging of Cellular Trafficking of Lip...  \n",
       "7   Coccidioidomycosis of the Vocal Cords Presenti...  \n",
       "8   Hashimoto’s thyroiditis: modern views on the p...  \n",
       "9   High resolution imaging based on photo-emissio...  \n",
       "10  Recent advances with cobalt-mediated asymmetri...  \n",
       "11  A Mini-review on Recent Advances in Synthesis ...  \n",
       "12  Ceramides: correlation with cardiovascular ris...  \n",
       "13  Supraglottic airway devices versus endotrachea...  \n",
       "14  Current challenges and practical aspects of mo...  \n",
       "15  Optimizing tendon repair and regeneration: how...  \n",
       "16  Navigating HER2-Low Testing in Invasive Breast...  \n",
       "17  Endoscopic Approach for Cervical Disease: Succ...  \n",
       "18  Treatment of cervical esophageal carcinoma: sy...  \n",
       "19  Safety issues in the use of disinfectants base...  "
      ]
     },
     "execution_count": 6,
     "metadata": {},
     "output_type": "execute_result"
    }
   ],
   "source": [
    "oal_review.head(20)"
   ]
  },
  {
   "cell_type": "code",
   "execution_count": 7,
   "id": "52d714c6-913a-44d9-925e-04ebc067c652",
   "metadata": {},
   "outputs": [],
   "source": [
    "reg_review_per_year = pd.read_sql(r\"\"\"\n",
    "                                  SELECT COUNT(DISTINCT(doi)) AS n, pubyear\n",
    "                                  FROM unignhaupka.oal_scp_review_analysis osra\n",
    "                                  JOIN fiz_openalex_bdb_20250201.abstracts AS a\n",
    "                                      ON a.item_id = osra.openalex_id \n",
    "                                  WHERE LOWER(a.abstract_plain_text) ~ '(\\sthis\\s|systematic\\s|umbrella\\s|bibliographic\\s|literature\\s|scoping\\s|comprehensive\\s|mini-)review'\n",
    "                                      OR LOWER(item_title) ~ '(\\sa\\s|systematic\\s|umbrella\\s|bibliographic\\s|literature\\s|scoping\\s|comprehensive\\s|mini-)review'\n",
    "                                  GROUP BY pubyear\n",
    "                                  \"\"\", \n",
    "                                  con=engine)"
   ]
  },
  {
   "cell_type": "code",
   "execution_count": 8,
   "id": "2e71c775-aed2-41f8-9782-30f5dde82589",
   "metadata": {},
   "outputs": [],
   "source": [
    "scp_review_per_year = pd.read_sql(\"\"\"\n",
    "                                   SELECT COUNT(DISTINCT(doi)) AS n, pubyear\n",
    "                                   FROM unignhaupka.oal_scp_review_analysis\n",
    "                                   WHERE scp_type = 'Review'\n",
    "                                   GROUP BY pubyear\n",
    "                                   \"\"\", \n",
    "                                   con=engine)"
   ]
  },
  {
   "cell_type": "code",
   "execution_count": 9,
   "id": "cd87ab63-3a6b-4636-b06f-2696b2b5459c",
   "metadata": {},
   "outputs": [],
   "source": [
    "ref_review_per_year = pd.read_sql(\"\"\"\n",
    "                                  SELECT COUNT(DISTINCT(doi)) AS n, pubyear\n",
    "                                  FROM unignhaupka.oal_scp_review_analysis\n",
    "                                  WHERE source_ref_count >= 100\n",
    "                                  GROUP BY pubyear\n",
    "                                  \"\"\", \n",
    "                                  con=engine)"
   ]
  },
  {
   "cell_type": "code",
   "execution_count": 10,
   "id": "c307db0a-a33d-4415-88ad-048f16e0f4e9",
   "metadata": {},
   "outputs": [],
   "source": [
    "nai_review_per_year = pd.read_sql(\"\"\"\n",
    "                                  SELECT COUNT(DISTINCT(doi)) AS n, pubyear\n",
    "                                  FROM unignhaupka.oal_scp_review_analysis osra\n",
    "                                  JOIN fiz_openalex_bdb_20250201.abstracts AS a\n",
    "                                      ON a.item_id = osra.openalex_id \n",
    "                                  WHERE LOWER(a.abstract_plain_text) ~ 'review'\n",
    "                                      OR LOWER(item_title) ~ 'review'\n",
    "                                  GROUP BY pubyear\n",
    "                                  \"\"\", \n",
    "                                  con=engine)"
   ]
  },
  {
   "cell_type": "code",
   "execution_count": 11,
   "id": "7a87e259-46b8-4f9d-86e4-74e05934ff7b",
   "metadata": {},
   "outputs": [],
   "source": [
    "nai_ref1_review_per_year = pd.read_sql(\"\"\"\n",
    "                                       SELECT COUNT(DISTINCT(doi)) AS n, pubyear\n",
    "                                       FROM unignhaupka.oal_scp_review_analysis osra\n",
    "                                       JOIN fiz_openalex_bdb_20250201.abstracts AS a\n",
    "                                           ON a.item_id = osra.openalex_id \n",
    "                                       WHERE source_ref_count >= 1 AND (LOWER(a.abstract_plain_text) ~ 'review' OR LOWER(item_title) ~ 'review')\n",
    "                                       GROUP BY pubyear\n",
    "                                       \"\"\", \n",
    "                                       con=engine)"
   ]
  },
  {
   "cell_type": "code",
   "execution_count": 12,
   "id": "92a00985-8905-49b0-ac5b-01ef4b53af3c",
   "metadata": {},
   "outputs": [],
   "source": [
    "abstract_null_count_per_year = pd.read_sql(\"\"\"\n",
    "                                           SELECT COUNT(DISTINCT(doi)) AS n, pubyear\n",
    "                                           FROM unignhaupka.oal_scp_review_analysis osra\n",
    "                                           JOIN fiz_openalex_bdb_20250201.abstracts AS a\n",
    "                                               ON a.item_id = osra.openalex_id \n",
    "                                           WHERE abstract_plain_text IS NOT NULL\n",
    "                                           GROUP BY pubyear\n",
    "                                           \"\"\", \n",
    "                                           con=engine)"
   ]
  },
  {
   "cell_type": "code",
   "execution_count": 13,
   "id": "7e1ff7fa-442c-4ac4-9c15-8f6494815a1c",
   "metadata": {},
   "outputs": [
    {
     "data": {
      "image/png": "[encoded data removed]",
      "text/plain": [
       "<Figure size 600x450 with 1 Axes>"
      ]
     },
     "metadata": {},
     "output_type": "display_data"
    }
   ],
   "source": [
    "fig, ax = plt.subplots(figsize=(6,4.5))\n",
    "plt.box(False)\n",
    "\n",
    "sns.lineplot(data=nai_review_per_year,\n",
    "             x='pubyear',\n",
    "             y='n',\n",
    "             color='#fc5185',\n",
    "             marker='o',\n",
    "             ax=ax)\n",
    "\n",
    "sns.lineplot(data=reg_review_per_year,\n",
    "             x='pubyear',\n",
    "             y='n',\n",
    "             color='#c3c3c3',\n",
    "             marker='o',\n",
    "             ax=ax)\n",
    "\n",
    "sns.lineplot(data=ref_review_per_year,\n",
    "             x='pubyear',\n",
    "             y='n',\n",
    "             color='#f68212',\n",
    "             marker='o',\n",
    "             ax=ax)\n",
    "\n",
    "sns.lineplot(data=scp_review_per_year,\n",
    "             x='pubyear',\n",
    "             y='n',\n",
    "             color='#9e0059',\n",
    "             marker='o',\n",
    "             ax=ax)\n",
    "\n",
    "sns.lineplot(data=nai_ref1_review_per_year,\n",
    "             x='pubyear',\n",
    "             y='n',\n",
    "             color='#E5BA52',\n",
    "             marker='o',\n",
    "             ax=ax)\n",
    "\n",
    "sns.lineplot(data=abstract_null_count_per_year,\n",
    "             x='pubyear',\n",
    "             y='n',\n",
    "             color='#068E8C',\n",
    "             marker='o',\n",
    "             linestyle='dashed',\n",
    "             ax=ax)\n",
    "\n",
    "ax.grid(True, which='both', axis='y')\n",
    "ax.set(xlabel='Year', ylabel='Number of reviews')\n",
    "ax.ticklabel_format(useOffset=False, style='plain')\n",
    "\n",
    "nai_patch = Line2D([0], [0], color='#fc5185', label='Word \"Review\" in title or abstract')\n",
    "ref1_patch = Line2D([0], [0], color='#E5BA52', label='Word \"Review\" in title or abstract and ref count >= 1')\n",
    "reg_patch = Line2D([0], [0], color='#c3c3c3', label='Regex in title or abstract')\n",
    "ref_patch = Line2D([0], [0], color='#f68212', label='Ref count >= 100')\n",
    "scp_patch = Line2D([0], [0], color='#9e0059', label='Review (Scopus)')\n",
    "abstract_patch = Line2D([0], [0], color='#068E8C', label='Has abstract', linestyle='dashed')\n",
    "\n",
    "lgd = fig.legend(handles=[nai_patch, ref1_patch, reg_patch, ref_patch, scp_patch, abstract_patch], frameon=False,\n",
    "                 bbox_to_anchor=(1.7, 0.9), labelspacing=1.1)\n",
    "\n",
    "plt.tight_layout()\n",
    "\n",
    "plt.show()\n",
    "fig.savefig(f'media/review_classification.png', format='png', bbox_inches='tight', dpi=500)"
   ]
  },
  {
   "cell_type": "code",
   "execution_count": 46,
   "id": "4e6fcd81-4e29-408d-b9b5-ec7b26ccbf5d",
   "metadata": {},
   "outputs": [
    {
     "data": {
      "text/plain": [
       "77493"
      ]
     },
     "execution_count": 46,
     "metadata": {},
     "output_type": "execute_result"
    }
   ],
   "source": [
    "reg_review_per_year.n.sum()"
   ]
  },
  {
   "cell_type": "code",
   "execution_count": 47,
   "id": "7bf4d705-5169-4bc2-87a7-fcc7b8b60add",
   "metadata": {},
   "outputs": [
    {
     "data": {
      "text/plain": [
       "553719"
      ]
     },
     "execution_count": 47,
     "metadata": {},
     "output_type": "execute_result"
    }
   ],
   "source": [
    "scp_review_per_year.n.sum()"
   ]
  },
  {
   "cell_type": "code",
   "execution_count": 48,
   "id": "4a436094-f782-4bf3-8f66-74aff11e573c",
   "metadata": {},
   "outputs": [
    {
     "data": {
      "text/plain": [
       "136787"
      ]
     },
     "execution_count": 48,
     "metadata": {},
     "output_type": "execute_result"
    }
   ],
   "source": [
    "ref_review_per_year.n.sum()"
   ]
  },
  {
   "cell_type": "code",
   "execution_count": 49,
   "id": "dac04aa0-2a87-445e-92b5-2a7ddc249983",
   "metadata": {},
   "outputs": [
    {
     "data": {
      "text/plain": [
       "144546"
      ]
     },
     "execution_count": 49,
     "metadata": {},
     "output_type": "execute_result"
    }
   ],
   "source": [
    "nai_review_per_year.n.sum()"
   ]
  },
  {
   "cell_type": "code",
   "execution_count": 50,
   "id": "60d09625-e695-48f0-bea1-5d10a96f1a65",
   "metadata": {},
   "outputs": [
    {
     "data": {
      "text/plain": [
       "135400"
      ]
     },
     "execution_count": 50,
     "metadata": {},
     "output_type": "execute_result"
    }
   ],
   "source": [
    "nai_ref1_review_per_year.n.sum()"
   ]
  },
  {
   "cell_type": "code",
   "execution_count": 51,
   "id": "be690ad5-0dc0-42f2-8a41-535c8d2dfb49",
   "metadata": {},
   "outputs": [],
   "source": [
    "abstract_null_count = pd.read_sql(\"\"\"\n",
    "                                  SELECT COUNT(DISTINCT(doi)) AS n\n",
    "                                   FROM unignhaupka.oal_scp_review_analysis osra\n",
    "                                   JOIN fiz_openalex_bdb_20250201.abstracts AS a\n",
    "                                       ON a.item_id = osra.openalex_id \n",
    "                                   WHERE abstract_plain_text IS NULL\n",
    "                                   \"\"\", \n",
    "                                   con=engine)"
   ]
  },
  {
   "cell_type": "code",
   "execution_count": 52,
   "id": "4c0cb939-46c3-44a2-b1af-6fa208e5eba7",
   "metadata": {},
   "outputs": [
    {
     "data": {
      "text/plain": [
       "0    285753\n",
       "Name: n, dtype: int64"
      ]
     },
     "execution_count": 52,
     "metadata": {},
     "output_type": "execute_result"
    }
   ],
   "source": [
    "abstract_null_count.n"
   ]
  },
  {
   "cell_type": "code",
   "execution_count": 24,
   "id": "c9842393-3329-47c4-81df-b481d5245522",
   "metadata": {},
   "outputs": [],
   "source": [
    "oal_title_analysis = pd.read_sql(\"\"\"\n",
    "                                 SELECT openalex_id, item_title\n",
    "                                 FROM unignhaupka.oal_scp_corpus_2018_2024 as oal\n",
    "                                 WHERE oal_type = 'review'\n",
    "                                 ORDER BY RANDOM()\n",
    "                                 LIMIT 10000\n",
    "                                 \"\"\", \n",
    "                                 con=engine)"
   ]
  },
  {
   "cell_type": "code",
   "execution_count": 25,
   "id": "384c51d3-5b3e-4ab2-9305-416e189b9c32",
   "metadata": {},
   "outputs": [
    {
     "data": {
      "text/plain": [
       "0       Endothelial glycocalyx restoration by growth f...\n",
       "1                  PLS-SEM STATISTICAL PROGRAMS: A REVIEW\n",
       "2       The Impact of Dose Reduction of Bacillus Calme...\n",
       "3       Minimally invasive mitral valve surgery versus...\n",
       "4          A Review on—Spintronics an Emerging Technology\n",
       "                              ...                        \n",
       "9995    Safety of nelarabine in adults with relapsed o...\n",
       "9996    The CNS theory of osteoarthritis: Opportunitie...\n",
       "9997    Cognition and mental health in menopause: A re...\n",
       "9998    Recent Advances in the Development of 5‐Hydrox...\n",
       "9999    Knowledge and practice of diabetic foot care –...\n",
       "Name: item_title, Length: 10000, dtype: object"
      ]
     },
     "execution_count": 25,
     "metadata": {},
     "output_type": "execute_result"
    }
   ],
   "source": [
    "oal_title_analysis.item_title"
   ]
  },
  {
   "cell_type": "code",
   "execution_count": 26,
   "id": "2ee1e0e0-dae0-4720-98fe-de99638c8d8a",
   "metadata": {},
   "outputs": [],
   "source": [
    "list_of_trigrams = []\n",
    "for index, row in oal_title_analysis.iterrows():\n",
    "    trigrams = ngrams(row['item_title'].lower().split(), 3)\n",
    "    for trigram in trigrams: \n",
    "        if 'review' in trigram or 'meta' in trigram:\n",
    "            list_of_trigrams.append(trigram)"
   ]
  },
  {
   "cell_type": "code",
   "execution_count": 27,
   "id": "33ed51c9-16e8-4434-bd6e-67c4109d054e",
   "metadata": {},
   "outputs": [
    {
     "data": {
      "text/plain": [
       "[(('a', 'systematic', 'review'), 1390),\n",
       " (('systematic', 'review', 'and'), 727),\n",
       " (('review', 'and', 'meta-analysis'), 572),\n",
       " (('a', 'review', 'of'), 376),\n",
       " (('review', 'of', 'the'), 262),\n",
       " (('systematic', 'review', 'of'), 242),\n",
       " (('a', 'scoping', 'review'), 203),\n",
       " (('a', 'comprehensive', 'review'), 119),\n",
       " (('a', 'narrative', 'review'), 115),\n",
       " (('a', 'review', 'on'), 113),\n",
       " (('a', 'literature', 'review'), 80),\n",
       " (('review', 'and', 'meta‐analysis'), 65),\n",
       " (('and', 'literature', 'review'), 65),\n",
       " (('and', 'review', 'of'), 63),\n",
       " (('a', 'critical', 'review'), 62),\n",
       " (('review', 'on', 'the'), 49),\n",
       " (('systematic', 'literature', 'review'), 42),\n",
       " (('scoping', 'review', 'of'), 39),\n",
       " (('comprehensive', 'review', 'of'), 38),\n",
       " (('a', 'review', 'and'), 36),\n",
       " (('report', 'and', 'review'), 36),\n",
       " (('review', 'of', 'literature'), 35),\n",
       " (('systematic', 'review', 'with'), 33),\n",
       " (('a', 'brief', 'review'), 33),\n",
       " (('narrative', 'review', 'of'), 29),\n",
       " (('and', 'systematic', 'review'), 28),\n",
       " (('review', 'of', 'current'), 27),\n",
       " (('–', 'a', 'review'), 26),\n",
       " (('comprehensive', 'review', 'on'), 25),\n",
       " (('review', 'with', 'meta-analysis'), 23)]"
      ]
     },
     "execution_count": 27,
     "metadata": {},
     "output_type": "execute_result"
    }
   ],
   "source": [
    "Counter(list_of_trigrams).most_common(30)"
   ]
  },
  {
   "cell_type": "code",
   "execution_count": 17,
   "id": "b4ded805-0d46-440f-a0f0-18efca177c5f",
   "metadata": {},
   "outputs": [],
   "source": [
    "oal_abstract_analysis = pd.read_sql(\"\"\"\n",
    "                                    SELECT item_id, abstract_plain_text\n",
    "                                    FROM fiz_openalex_bdb_20250201.abstracts a \n",
    "                                    JOIN unignhaupka.oal_scp_corpus_2018_2024 as oal\n",
    "                                        ON a.item_id = oal.openalex_id\n",
    "                                    WHERE abstract_plain_text IS NOT NULL\n",
    "                                        AND oal_type = 'review'\n",
    "                                    ORDER BY RANDOM()\n",
    "                                    LIMIT 10000\n",
    "                                    \"\"\", \n",
    "                                    con=engine)"
   ]
  },
  {
   "cell_type": "code",
   "execution_count": 18,
   "id": "ee23d1d3-8b79-46fc-a31e-79258a168b53",
   "metadata": {},
   "outputs": [
    {
     "data": {
      "text/plain": [
       "0       The purpose of this review is to summarize the...\n",
       "1       Background There is an unmet need for noninvas...\n",
       "2       Abstract The increasing application of positro...\n",
       "3       Motorcycles are considered as one of the extre...\n",
       "4       Hendra virus disease (HeVD) is an emerging zoo...\n",
       "                              ...                        \n",
       "9995    Studies of clinical outcomes that compare the ...\n",
       "9996    Multiple sclerosis (MS) is an autoimmune disor...\n",
       "9997    Introduction: Robot-assisted devices have been...\n",
       "9998    Conjugated linoleic acid (CLA) has drawn signi...\n",
       "9999    Background/Objectives: Attention deficit hyper...\n",
       "Name: abstract_plain_text, Length: 10000, dtype: object"
      ]
     },
     "execution_count": 18,
     "metadata": {},
     "output_type": "execute_result"
    }
   ],
   "source": [
    "oal_abstract_analysis.abstract_plain_text"
   ]
  },
  {
   "cell_type": "code",
   "execution_count": 19,
   "id": "e968d5cc-dc5c-4faf-8b57-6fa3f5b27a3f",
   "metadata": {},
   "outputs": [],
   "source": [
    "list_of_trigrams = []\n",
    "for index, row in oal_abstract_analysis.iterrows():\n",
    "    trigrams = ngrams(row['abstract_plain_text'].lower().split(), 3)\n",
    "    for trigram in trigrams: \n",
    "        if 'review' in trigram or 'meta' in trigram:\n",
    "            list_of_trigrams.append(trigram)"
   ]
  },
  {
   "cell_type": "code",
   "execution_count": 23,
   "id": "d7b1f6c9-eb54-41e0-be58-c2b0535416f0",
   "metadata": {},
   "outputs": [
    {
     "data": {
      "text/plain": [
       "[(('a', 'systematic', 'review'), 461),\n",
       " (('this', 'systematic', 'review'), 421),\n",
       " (('systematic', 'review', 'and'), 349),\n",
       " (('of', 'this', 'review'), 339),\n",
       " (('review', 'of', 'the'), 304),\n",
       " (('review', 'aims', 'to'), 293),\n",
       " (('review', 'is', 'to'), 273),\n",
       " (('this', 'review', 'is'), 249),\n",
       " (('we', 'review', 'the'), 244),\n",
       " (('review', 'and', 'meta-analysis'), 224),\n",
       " (('systematic', 'review', 'of'), 201),\n",
       " (('this', 'review', 'aims'), 191),\n",
       " (('a', 'review', 'of'), 169),\n",
       " (('this', 'review', 'will'), 163),\n",
       " (('this', 'review', 'summarizes'), 163),\n",
       " (('review', 'focuses', 'on'), 157),\n",
       " (('here,', 'we', 'review'), 153),\n",
       " (('this', 'review', 'provides'), 152),\n",
       " (('in', 'this', 'review'), 152),\n",
       " (('review', 'was', 'to'), 139),\n",
       " (('this', 'scoping', 'review'), 139),\n",
       " (('the', 'present', 'review'), 131),\n",
       " (('to', 'review', 'the'), 130),\n",
       " (('systematic', 'review', 'was'), 124),\n",
       " (('review', 'summarizes', 'the'), 123),\n",
       " (('this', 'review', 'focuses'), 122),\n",
       " (('this', 'review', 'was'), 107),\n",
       " (('review', 'aimed', 'to'), 106),\n",
       " (('this', 'review', 'discusses'), 93),\n",
       " (('systematic', 'literature', 'review'), 91)]"
      ]
     },
     "execution_count": 23,
     "metadata": {},
     "output_type": "execute_result"
    }
   ],
   "source": [
    "Counter(list_of_trigrams).most_common(30)"
   ]
  },
  {
   "cell_type": "code",
   "execution_count": 21,
   "id": "2df154db-7815-4c5e-abb2-89f9fdcc7ed6",
   "metadata": {},
   "outputs": [],
   "source": [
    "list_of_bigrams = []\n",
    "for index, row in oal_abstract_analysis.iterrows():\n",
    "    bigrams = ngrams(row['abstract_plain_text'].lower().split(), 2)\n",
    "    for bigram in bigrams: \n",
    "        if 'review' in bigram or 'meta' in bigram:\n",
    "            list_of_bigrams.append(bigram)"
   ]
  },
  {
   "cell_type": "code",
   "execution_count": 22,
   "id": "6b28a2c8-8354-45d0-b5c2-22e137c4edbc",
   "metadata": {},
   "outputs": [
    {
     "data": {
      "text/plain": [
       "[(('this', 'review'), 2553),\n",
       " (('systematic', 'review'), 1264),\n",
       " (('review', 'of'), 773),\n",
       " (('review', 'the'), 514),\n",
       " (('we', 'review'), 461),\n",
       " (('review', 'and'), 460),\n",
       " (('review', 'is'), 405),\n",
       " (('the', 'review'), 392),\n",
       " (('review', 'was'), 378),\n",
       " (('scoping', 'review'), 310),\n",
       " (('review', 'aims'), 308),\n",
       " (('literature', 'review'), 295),\n",
       " (('review', 'will'), 258),\n",
       " (('review', 'provides'), 208),\n",
       " (('a', 'review'), 202),\n",
       " (('to', 'review'), 201),\n",
       " (('review', 'summarizes'), 197),\n",
       " (('review', 'focuses'), 161),\n",
       " (('comprehensive', 'review'), 137),\n",
       " (('present', 'review'), 137),\n",
       " (('review', 'highlights'), 127),\n",
       " (('narrative', 'review'), 127),\n",
       " (('review', 'discusses'), 115),\n",
       " (('review', 'article'), 110),\n",
       " (('review', 'aimed'), 109),\n",
       " (('our', 'review'), 97),\n",
       " (('review', 'on'), 93),\n",
       " (('review', 'to'), 93),\n",
       " (('review', 'also'), 79),\n",
       " (('review', 'presents'), 69)]"
      ]
     },
     "execution_count": 22,
     "metadata": {},
     "output_type": "execute_result"
    }
   ],
   "source": [
    "Counter(list_of_bigrams).most_common(30)"
   ]
  },
  {
   "cell_type": "code",
   "execution_count": 4,
   "id": "2ecc31bc-e832-41ab-88f2-68240ada60d9",
   "metadata": {},
   "outputs": [],
   "source": [
    "oal_review_scp_other = pd.read_sql(\"\"\"\n",
    "                                   SELECT COUNT(DISTINCT(doi)) AS n, oal_type, scp_type\n",
    "                                   FROM unignhaupka.oal_scp_corpus_2018_2024 as oal\n",
    "                                   JOIN fiz_openalex_bdb_20250201.abstracts AS a\n",
    "                                       ON a.item_id = oal.openalex_id \n",
    "                                   WHERE oal_type = 'article' AND source_ref_count >= 1\n",
    "                                       AND (LOWER(a.abstract_plain_text) ~ 'review' OR LOWER(item_title) ~ 'review')\n",
    "                                   GROUP BY oal_type, scp_type\n",
    "                                   \"\"\", \n",
    "                                   con=engine)"
   ]
  },
  {
   "cell_type": "code",
   "execution_count": 5,
   "id": "bac4a63b-30ed-4377-beb0-b3321370e600",
   "metadata": {},
   "outputs": [
    {
     "data": {
      "text/html": [
       "<div>\n",
       "<style scoped>\n",
       "    .dataframe tbody tr th:only-of-type {\n",
       "        vertical-align: middle;\n",
       "    }\n",
       "\n",
       "    .dataframe tbody tr th {\n",
       "        vertical-align: top;\n",
       "    }\n",
       "\n",
       "    .dataframe thead th {\n",
       "        text-align: right;\n",
       "    }\n",
       "</style>\n",
       "<table border=\"1\" class=\"dataframe\">\n",
       "  <thead>\n",
       "    <tr style=\"text-align: right;\">\n",
       "      <th></th>\n",
       "      <th>n</th>\n",
       "      <th>oal_type</th>\n",
       "      <th>scp_type</th>\n",
       "    </tr>\n",
       "  </thead>\n",
       "  <tbody>\n",
       "    <tr>\n",
       "      <th>0</th>\n",
       "      <td>302348</td>\n",
       "      <td>article</td>\n",
       "      <td>Article</td>\n",
       "    </tr>\n",
       "    <tr>\n",
       "      <th>1</th>\n",
       "      <td>3</td>\n",
       "      <td>article</td>\n",
       "      <td>Article in Press</td>\n",
       "    </tr>\n",
       "    <tr>\n",
       "      <th>2</th>\n",
       "      <td>2</td>\n",
       "      <td>article</td>\n",
       "      <td>Book</td>\n",
       "    </tr>\n",
       "    <tr>\n",
       "      <th>3</th>\n",
       "      <td>112</td>\n",
       "      <td>article</td>\n",
       "      <td>Chapter</td>\n",
       "    </tr>\n",
       "    <tr>\n",
       "      <th>4</th>\n",
       "      <td>14167</td>\n",
       "      <td>article</td>\n",
       "      <td>Conference Paper</td>\n",
       "    </tr>\n",
       "    <tr>\n",
       "      <th>5</th>\n",
       "      <td>352</td>\n",
       "      <td>article</td>\n",
       "      <td>Data Paper</td>\n",
       "    </tr>\n",
       "    <tr>\n",
       "      <th>6</th>\n",
       "      <td>4850</td>\n",
       "      <td>article</td>\n",
       "      <td>Editorial</td>\n",
       "    </tr>\n",
       "    <tr>\n",
       "      <th>7</th>\n",
       "      <td>319</td>\n",
       "      <td>article</td>\n",
       "      <td>Erratum</td>\n",
       "    </tr>\n",
       "    <tr>\n",
       "      <th>8</th>\n",
       "      <td>4947</td>\n",
       "      <td>article</td>\n",
       "      <td>Letter</td>\n",
       "    </tr>\n",
       "    <tr>\n",
       "      <th>9</th>\n",
       "      <td>7888</td>\n",
       "      <td>article</td>\n",
       "      <td>Note</td>\n",
       "    </tr>\n",
       "    <tr>\n",
       "      <th>10</th>\n",
       "      <td>135206</td>\n",
       "      <td>article</td>\n",
       "      <td>Review</td>\n",
       "    </tr>\n",
       "    <tr>\n",
       "      <th>11</th>\n",
       "      <td>2489</td>\n",
       "      <td>article</td>\n",
       "      <td>Short Survey</td>\n",
       "    </tr>\n",
       "    <tr>\n",
       "      <th>12</th>\n",
       "      <td>238</td>\n",
       "      <td>article</td>\n",
       "      <td>Tombstone</td>\n",
       "    </tr>\n",
       "  </tbody>\n",
       "</table>\n",
       "</div>"
      ],
      "text/plain": [
       "         n oal_type          scp_type\n",
       "0   302348  article           Article\n",
       "1        3  article  Article in Press\n",
       "2        2  article              Book\n",
       "3      112  article           Chapter\n",
       "4    14167  article  Conference Paper\n",
       "5      352  article        Data Paper\n",
       "6     4850  article         Editorial\n",
       "7      319  article           Erratum\n",
       "8     4947  article            Letter\n",
       "9     7888  article              Note\n",
       "10  135206  article            Review\n",
       "11    2489  article      Short Survey\n",
       "12     238  article         Tombstone"
      ]
     },
     "execution_count": 5,
     "metadata": {},
     "output_type": "execute_result"
    }
   ],
   "source": [
    "oal_review_scp_other"
   ]
  },
  {
   "cell_type": "code",
   "execution_count": 4,
   "id": "0b9c2826-9653-47d2-839e-9618eb6fef18",
   "metadata": {},
   "outputs": [],
   "source": [
    "oal_review_scp_other_reg = pd.read_sql(r\"\"\"\n",
    "                                       SELECT COUNT(DISTINCT(doi)) AS n, oal_type, scp_type\n",
    "                                       FROM unignhaupka.oal_scp_corpus_2018_2024 as oal\n",
    "                                       JOIN fiz_openalex_bdb_20250201.abstracts AS a\n",
    "                                           ON a.item_id = oal.openalex_id \n",
    "                                       WHERE oal_type = 'article' \n",
    "                                           AND ( \n",
    "                                               LOWER(a.abstract_plain_text) ~ '(\\sthis\\s|systematic\\s|umbrella\\s|bibliographic\\s|literature\\s|scoping\\s|comprehensive\\s|mini-)review'\n",
    "                                               OR LOWER(item_title) ~ '(\\sa\\s|systematic\\s|umbrella\\s|bibliographic\\s|literature\\s|scoping\\s|comprehensive\\s|mini-)review'\n",
    "                                           )\n",
    "                                       GROUP BY oal_type, scp_type\n",
    "                                       \"\"\", \n",
    "                                       con=engine)"
   ]
  },
  {
   "cell_type": "code",
   "execution_count": 5,
   "id": "b31967fa-5b65-4200-bcc5-574e5f1bd9cf",
   "metadata": {},
   "outputs": [
    {
     "data": {
      "text/html": [
       "<div>\n",
       "<style scoped>\n",
       "    .dataframe tbody tr th:only-of-type {\n",
       "        vertical-align: middle;\n",
       "    }\n",
       "\n",
       "    .dataframe tbody tr th {\n",
       "        vertical-align: top;\n",
       "    }\n",
       "\n",
       "    .dataframe thead th {\n",
       "        text-align: right;\n",
       "    }\n",
       "</style>\n",
       "<table border=\"1\" class=\"dataframe\">\n",
       "  <thead>\n",
       "    <tr style=\"text-align: right;\">\n",
       "      <th></th>\n",
       "      <th>n</th>\n",
       "      <th>oal_type</th>\n",
       "      <th>scp_type</th>\n",
       "    </tr>\n",
       "  </thead>\n",
       "  <tbody>\n",
       "    <tr>\n",
       "      <th>0</th>\n",
       "      <td>77659</td>\n",
       "      <td>article</td>\n",
       "      <td>Article</td>\n",
       "    </tr>\n",
       "    <tr>\n",
       "      <th>1</th>\n",
       "      <td>33</td>\n",
       "      <td>article</td>\n",
       "      <td>Chapter</td>\n",
       "    </tr>\n",
       "    <tr>\n",
       "      <th>2</th>\n",
       "      <td>3937</td>\n",
       "      <td>article</td>\n",
       "      <td>Conference Paper</td>\n",
       "    </tr>\n",
       "    <tr>\n",
       "      <th>3</th>\n",
       "      <td>87</td>\n",
       "      <td>article</td>\n",
       "      <td>Data Paper</td>\n",
       "    </tr>\n",
       "    <tr>\n",
       "      <th>4</th>\n",
       "      <td>1157</td>\n",
       "      <td>article</td>\n",
       "      <td>Editorial</td>\n",
       "    </tr>\n",
       "    <tr>\n",
       "      <th>5</th>\n",
       "      <td>247</td>\n",
       "      <td>article</td>\n",
       "      <td>Erratum</td>\n",
       "    </tr>\n",
       "    <tr>\n",
       "      <th>6</th>\n",
       "      <td>1129</td>\n",
       "      <td>article</td>\n",
       "      <td>Letter</td>\n",
       "    </tr>\n",
       "    <tr>\n",
       "      <th>7</th>\n",
       "      <td>2100</td>\n",
       "      <td>article</td>\n",
       "      <td>Note</td>\n",
       "    </tr>\n",
       "    <tr>\n",
       "      <th>8</th>\n",
       "      <td>77339</td>\n",
       "      <td>article</td>\n",
       "      <td>Review</td>\n",
       "    </tr>\n",
       "    <tr>\n",
       "      <th>9</th>\n",
       "      <td>1246</td>\n",
       "      <td>article</td>\n",
       "      <td>Short Survey</td>\n",
       "    </tr>\n",
       "    <tr>\n",
       "      <th>10</th>\n",
       "      <td>56</td>\n",
       "      <td>article</td>\n",
       "      <td>Tombstone</td>\n",
       "    </tr>\n",
       "  </tbody>\n",
       "</table>\n",
       "</div>"
      ],
      "text/plain": [
       "        n oal_type          scp_type\n",
       "0   77659  article           Article\n",
       "1      33  article           Chapter\n",
       "2    3937  article  Conference Paper\n",
       "3      87  article        Data Paper\n",
       "4    1157  article         Editorial\n",
       "5     247  article           Erratum\n",
       "6    1129  article            Letter\n",
       "7    2100  article              Note\n",
       "8   77339  article            Review\n",
       "9    1246  article      Short Survey\n",
       "10     56  article         Tombstone"
      ]
     },
     "execution_count": 5,
     "metadata": {},
     "output_type": "execute_result"
    }
   ],
   "source": [
    "oal_review_scp_other_reg"
   ]
  },
  {
   "cell_type": "code",
   "execution_count": 70,
   "id": "ed8a6457-f325-4aad-b6e1-5c905a500f5d",
   "metadata": {},
   "outputs": [],
   "source": [
    "nai_review_not_review_included = pd.read_sql(\"\"\"\n",
    "                                              SELECT doi, item_title\n",
    "                                              FROM unignhaupka.oal_scp_review_analysis osra\n",
    "                                              JOIN fiz_openalex_bdb_20250201.abstracts AS a\n",
    "                                                  ON a.item_id = osra.openalex_id \n",
    "                                              WHERE a.abstract_plain_text IS NOT NULL \n",
    "                                                  AND NOT (LOWER(a.abstract_plain_text) ~ 'review' OR LOWER(item_title) ~ 'review')\n",
    "                                              LIMIT 100\n",
    "                                              \"\"\", \n",
    "                                              con=engine)"
   ]
  },
  {
   "cell_type": "code",
   "execution_count": 71,
   "id": "caab95d5-7670-4478-875e-d99e6c61f22b",
   "metadata": {},
   "outputs": [
    {
     "data": {
      "text/html": [
       "<div>\n",
       "<style scoped>\n",
       "    .dataframe tbody tr th:only-of-type {\n",
       "        vertical-align: middle;\n",
       "    }\n",
       "\n",
       "    .dataframe tbody tr th {\n",
       "        vertical-align: top;\n",
       "    }\n",
       "\n",
       "    .dataframe thead th {\n",
       "        text-align: right;\n",
       "    }\n",
       "</style>\n",
       "<table border=\"1\" class=\"dataframe\">\n",
       "  <thead>\n",
       "    <tr style=\"text-align: right;\">\n",
       "      <th></th>\n",
       "      <th>doi</th>\n",
       "      <th>item_title</th>\n",
       "    </tr>\n",
       "  </thead>\n",
       "  <tbody>\n",
       "    <tr>\n",
       "      <th>0</th>\n",
       "      <td>10.3389/fenvs.2019.00023</td>\n",
       "      <td>Hydrologic and Agricultural Earth Observations...</td>\n",
       "    </tr>\n",
       "    <tr>\n",
       "      <th>1</th>\n",
       "      <td>10.22201/ib.20078706e.2018.1.1880</td>\n",
       "      <td>Patrones de riqueza y distribución latitudinal...</td>\n",
       "    </tr>\n",
       "    <tr>\n",
       "      <th>2</th>\n",
       "      <td>10.31192/np.16.2.2</td>\n",
       "      <td>Voting of people with intellectual disabilitie...</td>\n",
       "    </tr>\n",
       "    <tr>\n",
       "      <th>3</th>\n",
       "      <td>10.1590/0102-33062018abb0255</td>\n",
       "      <td>Floral biology and pollination in Brazil: hist...</td>\n",
       "    </tr>\n",
       "    <tr>\n",
       "      <th>4</th>\n",
       "      <td>10.18332/tid/94829</td>\n",
       "      <td>Tobacco company strategies for maintaining cig...</td>\n",
       "    </tr>\n",
       "    <tr>\n",
       "      <th>5</th>\n",
       "      <td>10.1302/2058-5241.3.180003</td>\n",
       "      <td>The acute Charcot foot in diabetics</td>\n",
       "    </tr>\n",
       "    <tr>\n",
       "      <th>6</th>\n",
       "      <td>10.31782/ijcrr.2020.123128</td>\n",
       "      <td>Healthcare Setting and Methicillin Resistant S...</td>\n",
       "    </tr>\n",
       "    <tr>\n",
       "      <th>7</th>\n",
       "      <td>10.46303/jcsr.2020.9</td>\n",
       "      <td>Experience with Diversity is Not Enough: A Ped...</td>\n",
       "    </tr>\n",
       "    <tr>\n",
       "      <th>8</th>\n",
       "      <td>10.11622/smedj.2020177</td>\n",
       "      <td>SingHealth Radiology Archives pictorial essay ...</td>\n",
       "    </tr>\n",
       "    <tr>\n",
       "      <th>9</th>\n",
       "      <td>10.21138/bage.2968</td>\n",
       "      <td>Las transiciones hacia la sostenibilidad como ...</td>\n",
       "    </tr>\n",
       "    <tr>\n",
       "      <th>10</th>\n",
       "      <td>10.1097/md.0000000000027224</td>\n",
       "      <td>The role of CXCL10 in prognosis of patients wi...</td>\n",
       "    </tr>\n",
       "    <tr>\n",
       "      <th>11</th>\n",
       "      <td>10.1016/j.xcrp.2021.100595</td>\n",
       "      <td>Comparative study of fluorinated triarylalanes...</td>\n",
       "    </tr>\n",
       "    <tr>\n",
       "      <th>12</th>\n",
       "      <td>10.1098/rsta.2019.0467</td>\n",
       "      <td>Paradigms of frustration in superionic solid e...</td>\n",
       "    </tr>\n",
       "    <tr>\n",
       "      <th>13</th>\n",
       "      <td>10.1097/md.0000000000027351</td>\n",
       "      <td>Efficacy of therapies in the treatment of Guil...</td>\n",
       "    </tr>\n",
       "    <tr>\n",
       "      <th>14</th>\n",
       "      <td>10.1039/d1ma00885d</td>\n",
       "      <td>Liquid metals as soft electromechanical actuators</td>\n",
       "    </tr>\n",
       "    <tr>\n",
       "      <th>15</th>\n",
       "      <td>10.11606/issn.2176-7262.rmrp.2021.169851</td>\n",
       "      <td>Relación entre obesidad y enfermedades crónica...</td>\n",
       "    </tr>\n",
       "    <tr>\n",
       "      <th>16</th>\n",
       "      <td>10.1515/crelle-2017-0053</td>\n",
       "      <td>The free-boundary Brakke flow</td>\n",
       "    </tr>\n",
       "    <tr>\n",
       "      <th>17</th>\n",
       "      <td>10.23736/s1120-4826.19.02556-4</td>\n",
       "      <td>Dupilumab to target interleukin 4 for inflamma...</td>\n",
       "    </tr>\n",
       "    <tr>\n",
       "      <th>18</th>\n",
       "      <td>10.2147/mder.s179898</td>\n",
       "      <td>&amp;lt;p&amp;gt;Electrical stimulation in the treatme...</td>\n",
       "    </tr>\n",
       "    <tr>\n",
       "      <th>19</th>\n",
       "      <td>10.2106/jbjs.19.00930</td>\n",
       "      <td>Current Trends in Orthopaedic Surgery Residenc...</td>\n",
       "    </tr>\n",
       "  </tbody>\n",
       "</table>\n",
       "</div>"
      ],
      "text/plain": [
       "                                         doi  \\\n",
       "0                   10.3389/fenvs.2019.00023   \n",
       "1          10.22201/ib.20078706e.2018.1.1880   \n",
       "2                         10.31192/np.16.2.2   \n",
       "3               10.1590/0102-33062018abb0255   \n",
       "4                         10.18332/tid/94829   \n",
       "5                 10.1302/2058-5241.3.180003   \n",
       "6                 10.31782/ijcrr.2020.123128   \n",
       "7                       10.46303/jcsr.2020.9   \n",
       "8                     10.11622/smedj.2020177   \n",
       "9                         10.21138/bage.2968   \n",
       "10               10.1097/md.0000000000027224   \n",
       "11                10.1016/j.xcrp.2021.100595   \n",
       "12                    10.1098/rsta.2019.0467   \n",
       "13               10.1097/md.0000000000027351   \n",
       "14                        10.1039/d1ma00885d   \n",
       "15  10.11606/issn.2176-7262.rmrp.2021.169851   \n",
       "16                  10.1515/crelle-2017-0053   \n",
       "17            10.23736/s1120-4826.19.02556-4   \n",
       "18                      10.2147/mder.s179898   \n",
       "19                     10.2106/jbjs.19.00930   \n",
       "\n",
       "                                           item_title  \n",
       "0   Hydrologic and Agricultural Earth Observations...  \n",
       "1   Patrones de riqueza y distribución latitudinal...  \n",
       "2   Voting of people with intellectual disabilitie...  \n",
       "3   Floral biology and pollination in Brazil: hist...  \n",
       "4   Tobacco company strategies for maintaining cig...  \n",
       "5                 The acute Charcot foot in diabetics  \n",
       "6   Healthcare Setting and Methicillin Resistant S...  \n",
       "7   Experience with Diversity is Not Enough: A Ped...  \n",
       "8   SingHealth Radiology Archives pictorial essay ...  \n",
       "9   Las transiciones hacia la sostenibilidad como ...  \n",
       "10  The role of CXCL10 in prognosis of patients wi...  \n",
       "11  Comparative study of fluorinated triarylalanes...  \n",
       "12  Paradigms of frustration in superionic solid e...  \n",
       "13  Efficacy of therapies in the treatment of Guil...  \n",
       "14  Liquid metals as soft electromechanical actuators  \n",
       "15  Relación entre obesidad y enfermedades crónica...  \n",
       "16                      The free-boundary Brakke flow  \n",
       "17  Dupilumab to target interleukin 4 for inflamma...  \n",
       "18  &lt;p&gt;Electrical stimulation in the treatme...  \n",
       "19  Current Trends in Orthopaedic Surgery Residenc...  "
      ]
     },
     "execution_count": 71,
     "metadata": {},
     "output_type": "execute_result"
    }
   ],
   "source": [
    "nai_review_not_review_included.head(20)"
   ]
  },
  {
   "cell_type": "code",
   "execution_count": null,
   "id": "6d7c2b3e-da43-44ed-9a24-2dafc6416b52",
   "metadata": {},
   "outputs": [],
   "source": []
  }
 ],
 "metadata": {
  "kernelspec": {
   "display_name": "openalex_reviews",
   "language": "python",
   "name": "openalex_reviews"
  },
  "language_info": {
   "codemirror_mode": {
    "name": "ipython",
    "version": 3
   },
   "file_extension": ".py",
   "mimetype": "text/x-python",
   "name": "python",
   "nbconvert_exporter": "python",
   "pygments_lexer": "ipython3",
   "version": "3.13.5"
  }
 },
 "nbformat": 4,
 "nbformat_minor": 5
}
